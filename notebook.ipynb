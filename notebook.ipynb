{
 "cells": [
  {
   "cell_type": "code",
   "execution_count": 1,
   "metadata": {},
   "outputs": [],
   "source": [
    "import numpy as np\n",
    "import random"
   ]
  },
  {
   "cell_type": "code",
   "execution_count": 13,
   "metadata": {},
   "outputs": [
    {
     "name": "stdout",
     "output_type": "stream",
     "text": [
      "[0.3 0.5 0.5 0.3 0.3]\n"
     ]
    }
   ],
   "source": [
    "A = \n",
    "# random sample with replacement 5 elemnts from this list\n",
    "print()\n"
   ]
  },
  {
   "cell_type": "code",
   "execution_count": 6,
   "metadata": {},
   "outputs": [
    {
     "name": "stdout",
     "output_type": "stream",
     "text": [
      "10\n"
     ]
    },
    {
     "ename": "AttributeError",
     "evalue": "'NoneType' object has no attribute '__set__'",
     "output_type": "error",
     "traceback": [
      "\u001b[1;31m---------------------------------------------------------------------------\u001b[0m",
      "\u001b[1;31mAttributeError\u001b[0m                            Traceback (most recent call last)",
      "Cell \u001b[1;32mIn[6], line 25\u001b[0m\n\u001b[0;32m     22\u001b[0m \u001b[38;5;28mprint\u001b[39m(c\u001b[38;5;241m.\u001b[39mx)\n\u001b[0;32m     24\u001b[0m c2 \u001b[38;5;241m=\u001b[39m C2()\n\u001b[1;32m---> 25\u001b[0m c2\u001b[38;5;241m.\u001b[39mx \u001b[38;5;241m=\u001b[39m \u001b[38;5;241m10\u001b[39m\n\u001b[0;32m     26\u001b[0m \u001b[38;5;28mprint\u001b[39m(c2\u001b[38;5;241m.\u001b[39mx)\n",
      "Cell \u001b[1;32mIn[6], line 17\u001b[0m, in \u001b[0;36mC2.x\u001b[1;34m(self, value)\u001b[0m\n\u001b[0;32m     15\u001b[0m \u001b[38;5;129m@C\u001b[39m\u001b[38;5;241m.\u001b[39mx\u001b[38;5;241m.\u001b[39msetter\n\u001b[0;32m     16\u001b[0m \u001b[38;5;28;01mdef\u001b[39;00m \u001b[38;5;21mx\u001b[39m(\u001b[38;5;28mself\u001b[39m, value):\n\u001b[1;32m---> 17\u001b[0m     \u001b[38;5;28;43msuper\u001b[39;49m\u001b[43m(\u001b[49m\u001b[43m)\u001b[49m\u001b[38;5;241;43m.\u001b[39;49m\u001b[43mx\u001b[49m\u001b[38;5;241;43m.\u001b[39;49m\u001b[38;5;21;43m__set__\u001b[39;49m(\u001b[38;5;28mself\u001b[39m, value \u001b[38;5;241m*\u001b[39m \u001b[38;5;241m-\u001b[39m\u001b[38;5;241m1\u001b[39m)\n",
      "\u001b[1;31mAttributeError\u001b[0m: 'NoneType' object has no attribute '__set__'"
     ]
    }
   ],
   "source": [
    "class C(object):\n",
    "    def __init__(self):\n",
    "        self._x = None\n",
    "    @property\n",
    "    def x(self):\n",
    "        return self._x\n",
    "    @x.setter\n",
    "    def x(self, value):\n",
    "        self._x = value\n",
    "    @x.deleter\n",
    "    def x(self):\n",
    "        del self._x\n",
    "\n",
    "class C2(C):\n",
    "    @C.x.setter\n",
    "    def x(self, value):\n",
    "        super().x.__set__(self, value * -1)\n",
    "        # self._x = value * -1\n",
    "    \n",
    "c = C()\n",
    "c.x = 10\n",
    "print(c.x)\n",
    "\n",
    "c2 = C2()\n",
    "c2.x = 10\n",
    "print(c2.x)"
   ]
  },
  {
   "cell_type": "code",
   "execution_count": 7,
   "metadata": {},
   "outputs": [
    {
     "name": "stdout",
     "output_type": "stream",
     "text": [
      "42\n",
      "10\n"
     ]
    }
   ],
   "source": [
    "class MyClass:\n",
    "    def __init__(self, my_attribute):\n",
    "        self._my_attribute = my_attribute\n",
    "\n",
    "    @property\n",
    "    def my_attribute(self):\n",
    "        return self._my_attribute\n",
    "\n",
    "    @my_attribute.setter\n",
    "    def my_attribute(self, value):\n",
    "        # You can add custom logic or validation here before setting the value\n",
    "        if value < 0:\n",
    "            raise ValueError(\"Attribute value must be non-negative\")\n",
    "        \n",
    "        self._my_attribute = value\n",
    "\n",
    "# Example usage\n",
    "obj = MyClass(42)\n",
    "print(obj.my_attribute)  # Output: 42\n",
    "\n",
    "# Setting a new value using the setter method\n",
    "obj.my_attribute = 10\n",
    "print(obj.my_attribute)  # Output: 10\n",
    "\n",
    "# Attempting to set a negative value will raise a ValueError\n",
    "# obj.my_attribute = -5  # Uncommenting this line would raise a ValueError\n"
   ]
  },
  {
   "cell_type": "code",
   "execution_count": 8,
   "metadata": {},
   "outputs": [
    {
     "name": "stdout",
     "output_type": "stream",
     "text": [
      "42\n",
      "15\n"
     ]
    }
   ],
   "source": [
    "class MySubclass(MyClass):\n",
    "    @MyClass.my_attribute.setter\n",
    "    def my_attribute(self, value):\n",
    "        # Custom logic or validation specific to the subclass\n",
    "        if not isinstance(value, int):\n",
    "            raise ValueError(\"Attribute value must be an integer\")\n",
    "\n",
    "        # You can also call the superclass setter to reuse its logic\n",
    "        super(MySubclass, MySubclass).my_attribute.__set__(self, value)\n",
    "\n",
    "# Example usage with the subclass\n",
    "sub_obj = MySubclass(42)\n",
    "print(sub_obj.my_attribute)  # Output: 42\n",
    "\n",
    "# Setting a new value using the overridden setter method\n",
    "sub_obj.my_attribute = 15\n",
    "print(sub_obj.my_attribute)  # Output: 15\n",
    "\n",
    "# Attempting to set a non-integer value will raise a ValueError specific to the subclass\n",
    "# sub_obj.my_attribute = \"invalid\"  # Uncommenting this line would raise a ValueError\n"
   ]
  }
 ],
 "metadata": {
  "kernelspec": {
   "display_name": "base",
   "language": "python",
   "name": "python3"
  },
  "language_info": {
   "codemirror_mode": {
    "name": "ipython",
    "version": 3
   },
   "file_extension": ".py",
   "mimetype": "text/x-python",
   "name": "python",
   "nbconvert_exporter": "python",
   "pygments_lexer": "ipython3",
   "version": "3.10.10"
  }
 },
 "nbformat": 4,
 "nbformat_minor": 2
}
